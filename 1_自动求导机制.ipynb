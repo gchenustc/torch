{
 "cells": [
  {
   "cell_type": "code",
   "execution_count": 1,
   "metadata": {},
   "outputs": [],
   "source": [
    "import torch\n",
    "import numpy as np"
   ]
  },
  {
   "cell_type": "markdown",
   "metadata": {},
   "source": [
    "## 简单的例子\n",
    "t = a + b"
   ]
  },
  {
   "cell_type": "code",
   "execution_count": 3,
   "metadata": {},
   "outputs": [
    {
     "data": {
      "text/plain": [
       "(tensor([[1., 1., 1.],\n",
       "         [1., 1., 1.],\n",
       "         [1., 1., 1.]], requires_grad=True),\n",
       " tensor([[2., 2., 2.],\n",
       "         [2., 2., 2.],\n",
       "         [2., 2., 2.]], requires_grad=True))"
      ]
     },
     "execution_count": 3,
     "metadata": {},
     "output_type": "execute_result"
    }
   ],
   "source": [
    "a = torch.full((3,3),1,dtype=torch.float32,requires_grad =True) # required_grad=True 开启即可反向传播求梯度\n",
    "b = torch.full((3,3),2,dtype=torch.float32)\n",
    "b.requires_grad =True\n",
    "a,b"
   ]
  },
  {
   "cell_type": "code",
   "execution_count": 4,
   "metadata": {},
   "outputs": [
    {
     "data": {
      "text/plain": [
       "True"
      ]
     },
     "execution_count": 4,
     "metadata": {},
     "output_type": "execute_result"
    }
   ],
   "source": [
    "# 运算\n",
    "t = a + b # a或者其中一个requires_grad = True, 经过a和b运算的新变量也是requires_grad = True\n",
    "y = t.sum()\n",
    "t.requires_grad"
   ]
  },
  {
   "cell_type": "code",
   "execution_count": 5,
   "metadata": {},
   "outputs": [],
   "source": [
    "# 反向传播\n",
    "y.backward()"
   ]
  },
  {
   "cell_type": "code",
   "execution_count": 6,
   "metadata": {},
   "outputs": [
    {
     "name": "stderr",
     "output_type": "stream",
     "text": [
      "C:\\Users\\gchen\\AppData\\Local\\Temp\\ipykernel_19268\\3731220033.py:2: UserWarning: The .grad attribute of a Tensor that is not a leaf Tensor is being accessed. Its .grad attribute won't be populated during autograd.backward(). If you indeed want the gradient for a non-leaf Tensor, use .retain_grad() on the non-leaf Tensor. If you access the non-leaf Tensor by mistake, make sure you access the leaf Tensor instead. See github.com/pytorch/pytorch/pull/30531 for more informations.\n",
      "  a.grad, b.grad, t.grad # 只有叶子节点有grad\n"
     ]
    },
    {
     "data": {
      "text/plain": [
       "(tensor([[1., 1., 1.],\n",
       "         [1., 1., 1.],\n",
       "         [1., 1., 1.]]),\n",
       " tensor([[1., 1., 1.],\n",
       "         [1., 1., 1.],\n",
       "         [1., 1., 1.]]),\n",
       " None)"
      ]
     },
     "execution_count": 6,
     "metadata": {},
     "output_type": "execute_result"
    }
   ],
   "source": [
    "# 获得梯度值\n",
    "a.grad, b.grad, t.grad # 只有叶子节点有grad"
   ]
  },
  {
   "cell_type": "markdown",
   "metadata": {},
   "source": [
    "## 例子\n",
    "t = w*a + b  \n",
    "\n",
    "a = [[1,1],[1,1]]  \n",
    "b = [[2,2],[2,2]]  \n",
    "w = [[2,2],[2,2]]  "
   ]
  },
  {
   "cell_type": "code",
   "execution_count": 50,
   "metadata": {},
   "outputs": [],
   "source": [
    "a = torch.full((2,2),1,dtype=torch.float32,requires_grad =True) # required_grad=True 开启即可反向传播求梯度\n",
    "b = torch.full((2,2),2,dtype=torch.float32,requires_grad =True)\n",
    "w = torch.full((2,2),2,dtype=torch.float32,requires_grad =True)"
   ]
  },
  {
   "cell_type": "code",
   "execution_count": 56,
   "metadata": {},
   "outputs": [
    {
     "name": "stdout",
     "output_type": "stream",
     "text": [
      "True True True False False\n"
     ]
    },
    {
     "name": "stderr",
     "output_type": "stream",
     "text": [
      "C:\\Users\\gchen\\AppData\\Local\\Temp\\ipykernel_12856\\1853962753.py:8: UserWarning: The .grad attribute of a Tensor that is not a leaf Tensor is being accessed. Its .grad attribute won't be populated during autograd.backward(). If you indeed want the gradient for a non-leaf Tensor, use .retain_grad() on the non-leaf Tensor. If you access the non-leaf Tensor by mistake, make sure you access the leaf Tensor instead. See github.com/pytorch/pytorch/pull/30531 for more informations.\n",
      "  a.grad, b.grad, w.grad, y.grad, t.grad\n"
     ]
    },
    {
     "data": {
      "text/plain": [
       "(tensor([[10., 10.],\n",
       "         [10., 10.]]),\n",
       " tensor([[5., 5.],\n",
       "         [5., 5.]]),\n",
       " tensor([[5., 5.],\n",
       "         [5., 5.]]),\n",
       " None,\n",
       " None)"
      ]
     },
     "execution_count": 56,
     "metadata": {},
     "output_type": "execute_result"
    }
   ],
   "source": [
    "y = w * a \n",
    "t = y + b\n",
    "z = t.sum()\n",
    "\n",
    "z.backward()\n",
    "\n",
    "print(a.is_leaf, b.is_leaf, w.is_leaf, y.is_leaf, t.is_leaf)  # 判断是否为叶子节点\n",
    "a.grad, b.grad, w.grad, y.grad, t.grad"
   ]
  },
  {
   "cell_type": "markdown",
   "metadata": {},
   "source": [
    "## 梯度的累加"
   ]
  },
  {
   "cell_type": "code",
   "execution_count": 15,
   "metadata": {},
   "outputs": [
    {
     "name": "stdout",
     "output_type": "stream",
     "text": [
      "None\n",
      "tensor([[1., 1.],\n",
      "        [1., 1.]])\n",
      "tensor([[2., 2.],\n",
      "        [2., 2.]])\n"
     ]
    }
   ],
   "source": [
    "a = torch.full((2,2),1,dtype=torch.float32,requires_grad =True)\n",
    "b = torch.full((2,2),2,dtype=torch.float32,requires_grad =True)\n",
    "\n",
    "# 初始梯度为None\n",
    "print(a.grad)\n",
    "\n",
    "# 第一次累加的梯度\n",
    "c = a + b\n",
    "# c.backward() # grad can be implicitly created only for scalar outputs\n",
    "t = c.sum()\n",
    "t.backward()\n",
    "print(a.grad)\n",
    "# with torch.no_grad():\n",
    "\n",
    "# 第二次梯度\n",
    "c = a + b\n",
    "t = c.sum()\n",
    "t.backward()\n",
    "print(a.grad)"
   ]
  },
  {
   "cell_type": "markdown",
   "metadata": {},
   "source": [
    "### X.grad=None 手动把梯度归零"
   ]
  },
  {
   "cell_type": "code",
   "execution_count": 25,
   "metadata": {},
   "outputs": [
    {
     "name": "stdout",
     "output_type": "stream",
     "text": [
      "None\n",
      "tensor([[1., 1.],\n",
      "        [1., 1.]])\n",
      "tensor([[1., 1.],\n",
      "        [1., 1.]])\n"
     ]
    }
   ],
   "source": [
    "a = torch.full((2,2),1,dtype=torch.float32,requires_grad =True)\n",
    "b = torch.full((2,2),2,dtype=torch.float32,requires_grad =True)\n",
    "\n",
    "# 初始梯度为None\n",
    "print(a.grad)\n",
    "\n",
    "# 第一次累加的梯度\n",
    "c = a + b\n",
    "# c.backward() # grad can be implicitly created only for scalar outputs\n",
    "t = c.sum()\n",
    "t.backward()\n",
    "print(a.grad)\n",
    "# with torch.no_grad():\n",
    "\n",
    "a.grad=None  # 手动清除梯度\n",
    "# 第二次梯度\n",
    "c = a + b\n",
    "t = c.sum()\n",
    "t.backward()\n",
    "print(a.grad)"
   ]
  },
  {
   "cell_type": "markdown",
   "metadata": {},
   "source": [
    "### with torch.no_grad()"
   ]
  },
  {
   "cell_type": "code",
   "execution_count": 30,
   "metadata": {},
   "outputs": [
    {
     "name": "stdout",
     "output_type": "stream",
     "text": [
      "None\n",
      "tensor([[1., 1.],\n",
      "        [1., 1.]])\n"
     ]
    }
   ],
   "source": [
    "a = torch.full((2,2),1,dtype=torch.float32,requires_grad =True)\n",
    "b = torch.full((2,2),2,dtype=torch.float32,requires_grad =True)\n",
    "\n",
    "# 初始梯度为None\n",
    "print(a.grad)\n",
    "\n",
    "with torch.no_grad():\n",
    "    c = a + b\n",
    "    t = c.sum()\n",
    "# t.backward() # RuntimeError: element 0 of tensors does not require grad and does not have a grad_fn\n",
    "c1 = a + b\n",
    "t1 = c1.sum()\n",
    "t1.backward()"
   ]
  },
  {
   "cell_type": "markdown",
   "metadata": {},
   "source": [
    "#### 梯度的打开与关闭是针对运算过程而言"
   ]
  },
  {
   "cell_type": "code",
   "execution_count": 37,
   "metadata": {},
   "outputs": [
    {
     "name": "stdout",
     "output_type": "stream",
     "text": [
      "None\n",
      "tensor([[1., 1.],\n",
      "        [1., 1.]])\n"
     ]
    }
   ],
   "source": [
    "a = torch.full((2,2),1,dtype=torch.float32,requires_grad =True)\n",
    "b = torch.full((2,2),2,dtype=torch.float32,requires_grad =True)\n",
    "\n",
    "# 初始梯度为None\n",
    "print(a.grad)\n",
    "\n",
    "c = a + b\n",
    "t = c.sum()\n",
    "with torch.no_grad():\n",
    "    t.backward() # RuntimeError: element 0 of tensors does not require grad and does not have a grad_fn\n",
    "print(a.grad)"
   ]
  },
  {
   "cell_type": "markdown",
   "metadata": {},
   "source": [
    "### 在特定情况下打开梯度\n",
    "torch.set_grad_enabled"
   ]
  },
  {
   "cell_type": "code",
   "execution_count": 33,
   "metadata": {},
   "outputs": [
    {
     "name": "stdout",
     "output_type": "stream",
     "text": [
      "None\n",
      "tensor([[1., 1.],\n",
      "        [1., 1.]])\n",
      "tensor([[2., 2.],\n",
      "        [2., 2.]])\n",
      "tensor([[2., 2.],\n",
      "        [2., 2.]])\n"
     ]
    }
   ],
   "source": [
    "a = torch.full((2,2),1,dtype=torch.float32,requires_grad =True)\n",
    "b = torch.full((2,2),2,dtype=torch.float32,requires_grad =True)\n",
    "\n",
    "# 初始梯度为None\n",
    "print(a.grad)\n",
    "\n",
    "# 第一次累加的梯度\n",
    "c = a + b\n",
    "t = c.sum()\n",
    "t.backward()\n",
    "print(a.grad)\n",
    "# with torch.no_grad():\n",
    "\n",
    "# 打开梯度\n",
    "with torch.set_grad_enabled(True):\n",
    "    c = a + b\n",
    "    t = c.sum()\n",
    "    t.backward()\n",
    "    print(a.grad)\n",
    "\n",
    "# 关闭梯度\n",
    "with torch.set_grad_enabled(False):\n",
    "    c = a + b\n",
    "    t = c.sum()\n",
    "# t.backward() # RuntimeError: element 0 of tensors does not require grad and does not have a grad_fn\n",
    "print(a.grad)"
   ]
  },
  {
   "cell_type": "code",
   "execution_count": null,
   "metadata": {},
   "outputs": [],
   "source": []
  }
 ],
 "metadata": {
  "kernelspec": {
   "display_name": "Python 3.8.13 ('pytorch')",
   "language": "python",
   "name": "python3"
  },
  "language_info": {
   "codemirror_mode": {
    "name": "ipython",
    "version": 3
   },
   "file_extension": ".py",
   "mimetype": "text/x-python",
   "name": "python",
   "nbconvert_exporter": "python",
   "pygments_lexer": "ipython3",
   "version": "3.8.13"
  },
  "orig_nbformat": 4,
  "vscode": {
   "interpreter": {
    "hash": "e88457d6133781447915b440b258f55cb00eb78ff373bb1d13c46c34b1089a25"
   }
  }
 },
 "nbformat": 4,
 "nbformat_minor": 2
}
