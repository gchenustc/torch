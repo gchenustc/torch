{
 "cells": [
  {
   "cell_type": "code",
   "execution_count": 3,
   "metadata": {},
   "outputs": [
    {
     "name": "stdout",
     "output_type": "stream",
     "text": [
      "Files already downloaded and verified\n",
      "torch.Size([64, 3, 32, 32])\n",
      "tensor([1, 4, 0, 6, 8, 7, 2, 8, 5, 8, 1, 5, 3, 9, 4, 0, 6, 8, 3, 2, 4, 7, 2, 7,\n",
      "        3, 3, 2, 1, 2, 9, 1, 4, 9, 2, 0, 3, 0, 4, 6, 5, 0, 5, 5, 1, 3, 3, 6, 6,\n",
      "        8, 4, 7, 2, 8, 7, 0, 4, 7, 1, 6, 5, 8, 6, 4, 3])\n"
     ]
    }
   ],
   "source": [
    "import torchvision\n",
    "\n",
    "# 导入数据\n",
    "dataset_path = \"./dataset\"\n",
    "test_set = torchvision.datasets.CIFAR10(dataset_path, train=False, transform=torchvision.transforms.ToTensor(), download=True)\n",
    "\n",
    "# dataloader\n",
    "from torch.utils.data import DataLoader\n",
    "# batch_size: 一次循环提取的数据个数\n",
    "# shuffle: 是否对datasets洗牌，不洗牌则每次从dataloader拿出数据的顺序相同\n",
    "# num_workders: 并行数，大于0可能会出错\n",
    "# drop_lase: 最后一次取出的数据如果小于batch_size是否舍弃\n",
    "test_loader= DataLoader(dataset=test_set, batch_size=64, shuffle=True, num_workers=0, drop_last=False, )\n",
    "\n",
    "# test_loader不可以test_set一样索引 --> test_set[0]\n",
    "i = 0\n",
    "for data in test_loader: \n",
    "    imgs, targets=data\n",
    "    if i<1:\n",
    "        print(imgs.shape)\n",
    "        print(targets)\n",
    "    i += 1"
   ]
  },
  {
   "cell_type": "markdown",
   "metadata": {},
   "source": [
    "# tensorborder展示"
   ]
  },
  {
   "cell_type": "code",
   "execution_count": 4,
   "metadata": {},
   "outputs": [],
   "source": [
    "from torch.utils.tensorboard import SummaryWriter\n",
    "writer = SummaryWriter(\"dataloader\")\n",
    "\n",
    "# shuffle=True，则每次循环打印的图片不一样\n",
    "for index,data in enumerate(test_loader):\n",
    "    imgs, targets = data\n",
    "    writer.add_images(\"batch_64\", imgs, index+1)\n",
    "writer.close()"
   ]
  },
  {
   "cell_type": "markdown",
   "metadata": {},
   "source": [
    "# 多epoch"
   ]
  },
  {
   "cell_type": "code",
   "execution_count": 5,
   "metadata": {},
   "outputs": [],
   "source": [
    "from torch.utils.tensorboard import SummaryWriter\n",
    "writer = SummaryWriter(\"dataloader\")\n",
    "epochs = 2\n",
    "for epoch in range(epochs):\n",
    "    for index,data in enumerate(test_loader):\n",
    "        imgs, targets = data\n",
    "        writer.add_images(\"epoch={}\".format(epoch+1), imgs, index)\n",
    "writer.close()"
   ]
  },
  {
   "cell_type": "code",
   "execution_count": null,
   "metadata": {},
   "outputs": [],
   "source": []
  }
 ],
 "metadata": {
  "kernelspec": {
   "display_name": "Python 3.8.13 ('pytorch')",
   "language": "python",
   "name": "python3"
  },
  "language_info": {
   "codemirror_mode": {
    "name": "ipython",
    "version": 3
   },
   "file_extension": ".py",
   "mimetype": "text/x-python",
   "name": "python",
   "nbconvert_exporter": "python",
   "pygments_lexer": "ipython3",
   "version": "3.8.13"
  },
  "orig_nbformat": 4,
  "vscode": {
   "interpreter": {
    "hash": "e88457d6133781447915b440b258f55cb00eb78ff373bb1d13c46c34b1089a25"
   }
  }
 },
 "nbformat": 4,
 "nbformat_minor": 2
}
