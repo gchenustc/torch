{
 "cells": [
  {
   "cell_type": "code",
   "execution_count": 50,
   "metadata": {},
   "outputs": [],
   "source": [
    "import torch\n",
    "import numpy as np\n",
    "import torch.nn as nn"
   ]
  },
  {
   "cell_type": "markdown",
   "metadata": {},
   "source": [
    "## 构建数据\n",
    "10个数据，每个数据一个特征  \n",
    "y = 2x+1"
   ]
  },
  {
   "cell_type": "code",
   "execution_count": 51,
   "metadata": {},
   "outputs": [
    {
     "data": {
      "text/plain": [
       "(array([[0.],\n",
       "        [1.],\n",
       "        [2.],\n",
       "        [3.],\n",
       "        [4.],\n",
       "        [5.],\n",
       "        [6.],\n",
       "        [7.],\n",
       "        [8.],\n",
       "        [9.]], dtype=float32),\n",
       " array([[ 0.96914285],\n",
       "        [ 3.0682814 ],\n",
       "        [ 4.8442483 ],\n",
       "        [ 6.8623    ],\n",
       "        [ 9.003161  ],\n",
       "        [10.990907  ],\n",
       "        [12.89527   ],\n",
       "        [14.905873  ],\n",
       "        [16.875662  ],\n",
       "        [19.162106  ]], dtype=float32))"
      ]
     },
     "execution_count": 51,
     "metadata": {},
     "output_type": "execute_result"
    }
   ],
   "source": [
    "X_np = np.arange(10).reshape((-1,1))\n",
    "X_np = X_np.astype(np.float32)\n",
    "y_np = 2 * X_np + 1  + 0.1*np.random.randn(10,1) # 2*x+1 最后一项是随机抖动\n",
    "y_np = y_np.astype(np.float32)\n",
    "X_np,y_np"
   ]
  },
  {
   "cell_type": "markdown",
   "metadata": {},
   "source": [
    "## 创建线性回归模型"
   ]
  },
  {
   "cell_type": "code",
   "execution_count": 52,
   "metadata": {},
   "outputs": [],
   "source": [
    "# 创建类\n",
    "class LR(nn.Module):\n",
    "    def __init__(self, input_dim, output_dim):\n",
    "        super(LR,self).__init__()\n",
    "        self.linear = nn.Linear(input_dim, output_dim) # 输入层维度，输出层维度\n",
    "    \n",
    "    def forward(self,x):\n",
    "        out = self.linear(x)\n",
    "        return out"
   ]
  },
  {
   "cell_type": "code",
   "execution_count": 53,
   "metadata": {},
   "outputs": [],
   "source": [
    "# 规定参数\n",
    "X = torch.from_numpy(X_np).requires_grad_()\n",
    "y = torch.from_numpy(y_np).requires_grad_()\n",
    "\n",
    "input_dim = 1\n",
    "output_dim = 1\n",
    "model = LR(input_dim, output_dim)\n",
    "\n",
    "epochs = 1000\n",
    "lr = 0.01\n",
    "\n",
    "# 优化器，传入参数和学习率，通过学习率和梯度对框架的w,b进行更新\n",
    "optimizer = torch.optim.SGD(model.parameters(), lr =lr)\n",
    "\n",
    "# 损失函数\n",
    "criterion = nn.MSELoss()\n"
   ]
  },
  {
   "cell_type": "code",
   "execution_count": 54,
   "metadata": {},
   "outputs": [
    {
     "name": "stdout",
     "output_type": "stream",
     "text": [
      "epoch:50,loss:0.05328069254755974\n",
      "epoch:100,loss:0.03416590392589569\n",
      "epoch:150,loss:0.02331623062491417\n",
      "epoch:200,loss:0.017157942056655884\n",
      "epoch:250,loss:0.013662363402545452\n",
      "epoch:300,loss:0.011678317561745644\n",
      "epoch:350,loss:0.010552125051617622\n",
      "epoch:400,loss:0.009912851266562939\n",
      "epoch:450,loss:0.009550091810524464\n",
      "epoch:500,loss:0.009344116784632206\n",
      "epoch:550,loss:0.009227229282259941\n",
      "epoch:600,loss:0.009160916320979595\n",
      "epoch:650,loss:0.009123238734900951\n",
      "epoch:700,loss:0.009101895615458488\n",
      "epoch:750,loss:0.009089763276278973\n",
      "epoch:800,loss:0.00908287987112999\n",
      "epoch:850,loss:0.009078972972929478\n",
      "epoch:900,loss:0.00907673966139555\n",
      "epoch:950,loss:0.009075479581952095\n",
      "epoch:1000,loss:0.009074702858924866\n"
     ]
    }
   ],
   "source": [
    "# 训练\n",
    "for epoch in range(epochs):\n",
    "    epoch += 1\n",
    "    # 梯度清零\n",
    "    optimizer.zero_grad()\n",
    "\n",
    "    # forward\n",
    "    outputs = model.forward(X)\n",
    "    \n",
    "    # calculate loss\n",
    "    loss = criterion(outputs, y)\n",
    "    \n",
    "    # backward\n",
    "    loss.backward()\n",
    "\n",
    "    # 更新权重参数 - # 不懂这里怎么传入梯度的 - 解决，tensor数组在反向传播时自带梯度，optimizer中传入了model.parameters()就可以知道梯度信息\n",
    "    optimizer.step()\n",
    "    \n",
    "    if epoch % 50 == 0:\n",
    "        print(f\"epoch:{epoch},loss:{loss.item()}\")"
   ]
  },
  {
   "cell_type": "code",
   "execution_count": 55,
   "metadata": {},
   "outputs": [
    {
     "data": {
      "text/plain": [
       "array([[ 0.93812793],\n",
       "       [ 2.9425886 ],\n",
       "       [ 4.947049  ],\n",
       "       [ 6.95151   ],\n",
       "       [ 8.95597   ],\n",
       "       [10.96043   ],\n",
       "       [12.964891  ],\n",
       "       [14.969352  ],\n",
       "       [16.973812  ],\n",
       "       [18.978273  ]], dtype=float32)"
      ]
     },
     "execution_count": 55,
     "metadata": {},
     "output_type": "execute_result"
    }
   ],
   "source": [
    "# 预测结果\n",
    "pred = model.forward(X).data.numpy()\n",
    "pred"
   ]
  }
 ],
 "metadata": {
  "kernelspec": {
   "display_name": "Python 3",
   "language": "python",
   "name": "python3"
  },
  "language_info": {
   "codemirror_mode": {
    "name": "ipython",
    "version": 3
   },
   "file_extension": ".py",
   "mimetype": "text/x-python",
   "name": "python",
   "nbconvert_exporter": "python",
   "pygments_lexer": "ipython3",
   "version": "3.8.13"
  },
  "vscode": {
   "interpreter": {
    "hash": "e88457d6133781447915b440b258f55cb00eb78ff373bb1d13c46c34b1089a25"
   }
  }
 },
 "nbformat": 4,
 "nbformat_minor": 2
}
