{
 "cells": [
  {
   "cell_type": "code",
   "execution_count": 24,
   "metadata": {},
   "outputs": [],
   "source": [
    "import numpy as np\n",
    "import pandas as pd\n",
    "import matplotlib.pyplot as plt\n",
    "import torch\n",
    "import torch.nn.functional as F\n",
    "import torch.nn as nn\n",
    "%matplotlib inline"
   ]
  },
  {
   "cell_type": "markdown",
   "metadata": {},
   "source": [
    "# 获得文件"
   ]
  },
  {
   "cell_type": "code",
   "execution_count": 18,
   "metadata": {},
   "outputs": [],
   "source": [
    "from pathlib import Path\n",
    "import requests\n",
    "\n",
    "DATA_PATH = Path(\"dataset\")\n",
    "PATH = DATA_PATH / \"mnist\"\n",
    "\n",
    "PATH.mkdir(parents=True, exist_ok=True)\n",
    "\n",
    "URL = \"http://deeplearning.net/data/mnist/\"\n",
    "FILENAME = \"mnist.pkl.gz\"\n",
    "\n",
    "if not (PATH / FILENAME).exists():\n",
    "        content = requests.get(URL + FILENAME).content\n",
    "        (PATH / FILENAME).open(\"wb\").write(content)"
   ]
  },
  {
   "cell_type": "code",
   "execution_count": 60,
   "metadata": {},
   "outputs": [],
   "source": [
    "import pickle\n",
    "import gzip\n",
    "\n",
    "with gzip.open((PATH / FILENAME).as_posix(), \"rb\") as f:\n",
    "        ((X_train, y_train), (X_test, y_test), _) = pickle.load(f, encoding=\"latin-1\")"
   ]
  },
  {
   "cell_type": "markdown",
   "metadata": {},
   "source": [
    "# 处理训练数据"
   ]
  },
  {
   "cell_type": "code",
   "execution_count": 61,
   "metadata": {},
   "outputs": [
    {
     "data": {
      "text/plain": [
       "tensor([5., 0., 4.], grad_fn=<SliceBackward>)"
      ]
     },
     "execution_count": 61,
     "metadata": {},
     "output_type": "execute_result"
    }
   ],
   "source": [
    "def mapTorch(data):\n",
    "    return torch.tensor(data, dtype=torch.float32, requires_grad=True)\n",
    "\n",
    "# 改为 torch 格式\n",
    "(X_train, y_train, X_test, y_test) = map(\n",
    "    mapTorch, (X_train, y_train, X_test, y_test)\n",
    ")\n",
    "\n",
    "# one-hot 编码\n",
    "# y_train = F.one_hot(y_train.type(torch.int64))\n",
    "# y_test = F.one_hot(y_test.type(torch.int64))\n",
    "y_train[:3]"
   ]
  },
  {
   "cell_type": "markdown",
   "metadata": {},
   "source": [
    "# 创建网络"
   ]
  },
  {
   "cell_type": "code",
   "execution_count": 78,
   "metadata": {},
   "outputs": [],
   "source": [
    "class Net(nn.Module):\n",
    "    def __init__(self, input_size, hidden_size, output_size):\n",
    "        super().__init__()\n",
    "        self.layers = nn.Sequential(\n",
    "            nn.Linear(input_size, hidden_size),\n",
    "            nn.ReLU(),\n",
    "            nn.Linear(hidden_size, output_size),\n",
    "            nn.Softmax(dim=1)\n",
    "        )\n",
    "    \n",
    "    def forward(self,X):\n",
    "        return self.layers(X)"
   ]
  },
  {
   "cell_type": "code",
   "execution_count": 84,
   "metadata": {},
   "outputs": [],
   "source": [
    "# 类实例化\n",
    "input_size = 784\n",
    "hidden_size = 128\n",
    "output_size = 10\n",
    "net = Net(input_size, hidden_size, output_size)\n",
    "\n",
    "# 损失函数\n",
    "losses = []\n",
    "cost = F.cross_entropy\n",
    "\n",
    "# 优化器\n",
    "learning_rate = 0.01\n",
    "optimizer = torch.optim.Adam(net.parameters(), learning_rate)\n",
    "\n",
    "# 循环和batch_size\n",
    "train_size = X_train.shape[0]\n",
    "n_iters = 2000\n",
    "batch_size = 200\n",
    "iters_per_epoch = max(train_size / batch_size, 1)"
   ]
  },
  {
   "cell_type": "code",
   "execution_count": 85,
   "metadata": {},
   "outputs": [
    {
     "name": "stdout",
     "output_type": "stream",
     "text": [
      "the no.250 epoch: 1, loss: 1.6199427843093872\n",
      "the no.500 epoch: 2, loss: 1.5965991020202637\n",
      "the no.750 epoch: 3, loss: 1.5052868127822876\n",
      "the no.1000 epoch: 4, loss: 1.5006613731384277\n",
      "the no.1250 epoch: 5, loss: 1.5021178722381592\n",
      "the no.1500 epoch: 6, loss: 1.5077366828918457\n",
      "the no.1750 epoch: 7, loss: 1.4978522062301636\n",
      "the no.2000 epoch: 8, loss: 1.4860246181488037\n"
     ]
    }
   ],
   "source": [
    "# 训练\n",
    "epoch=1\n",
    "for iter in range(n_iters):\n",
    "    # 训练的batch\n",
    "    batch_mask = np.random.choice(train_size, batch_size)\n",
    "    X_batch = X_train[batch_mask]\n",
    "    y_batch = y_train[batch_mask]\n",
    "\n",
    "    # forward\n",
    "    out = net.forward(X_batch)\n",
    "\n",
    "    # loss\n",
    "    loss = cost(out,y_batch.long())  # 预测的格式 out: [0.6,0.2,0.01,...]，真实值不能是ont-hot编码，要是一维的数据类似[1,2,4,1,...]，并且是长整型，函数会自动转换\n",
    "\n",
    "    # backward\n",
    "    loss.backward()\n",
    "\n",
    "    # 更新权重参数\n",
    "    optimizer.step()\n",
    "\n",
    "    # 梯度清零\n",
    "    optimizer.zero_grad()\n",
    "\n",
    "    losses.append(loss.data.numpy()) \n",
    "\n",
    "    if not (iter+1) % iters_per_epoch:\n",
    "        print(f\"the no.{iter+1} epoch: {epoch}, loss: {loss}\")\n",
    "        epoch += 1"
   ]
  },
  {
   "cell_type": "markdown",
   "metadata": {},
   "source": [
    "# 在测试集的结果"
   ]
  },
  {
   "cell_type": "code",
   "execution_count": 111,
   "metadata": {},
   "outputs": [],
   "source": [
    "# 预测测试集结果\n",
    "y_pre = net.forward(X_test).data.numpy()"
   ]
  },
  {
   "cell_type": "code",
   "execution_count": 112,
   "metadata": {},
   "outputs": [
    {
     "data": {
      "text/plain": [
       "0.9641686703108941"
      ]
     },
     "execution_count": 112,
     "metadata": {},
     "output_type": "execute_result"
    }
   ],
   "source": [
    "# one-hot --> normal\n",
    "y_pre = np.argmax(y_pre,axis=1)\n",
    "\n",
    "from sklearn.metrics import precision_score\n",
    "precision_score(y_pre, y_test.data.numpy(), average=\"macro\")"
   ]
  },
  {
   "cell_type": "markdown",
   "metadata": {},
   "source": [
    "# 在训练集的结果"
   ]
  },
  {
   "cell_type": "code",
   "execution_count": 114,
   "metadata": {},
   "outputs": [
    {
     "data": {
      "text/plain": [
       "0.9700150059742081"
      ]
     },
     "execution_count": 114,
     "metadata": {},
     "output_type": "execute_result"
    }
   ],
   "source": [
    "y_pre = net.forward(X_train).data.numpy()\n",
    "y_pre = np.argmax(y_pre,axis=1)\n",
    "\n",
    "precision_score(y_pre, y_train.data.numpy(), average=\"macro\")"
   ]
  }
 ],
 "metadata": {
  "kernelspec": {
   "display_name": "Python 3.8.13 ('pytorch')",
   "language": "python",
   "name": "python3"
  },
  "language_info": {
   "codemirror_mode": {
    "name": "ipython",
    "version": 3
   },
   "file_extension": ".py",
   "mimetype": "text/x-python",
   "name": "python",
   "nbconvert_exporter": "python",
   "pygments_lexer": "ipython3",
   "version": "3.8.13"
  },
  "orig_nbformat": 4,
  "vscode": {
   "interpreter": {
    "hash": "e88457d6133781447915b440b258f55cb00eb78ff373bb1d13c46c34b1089a25"
   }
  }
 },
 "nbformat": 4,
 "nbformat_minor": 2
}
