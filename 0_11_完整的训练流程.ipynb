{
 "cells": [
  {
   "cell_type": "code",
   "execution_count": 1,
   "metadata": {},
   "outputs": [],
   "source": [
    "import torch\n",
    "from torch import nn\n",
    "from torch import optim\n",
    "from torch.nn import Linear,Conv2d,MaxPool2d,Flatten,ReLU\n",
    "import torch.functional as F\n",
    "import torchvision\n",
    "\n",
    "from torchvision import datasets\n",
    "from torch.utils.data import DataLoader\n"
   ]
  },
  {
   "cell_type": "code",
   "execution_count": 2,
   "metadata": {},
   "outputs": [
    {
     "name": "stdout",
     "output_type": "stream",
     "text": [
      "Files already downloaded and verified\n",
      "Files already downloaded and verified\n"
     ]
    }
   ],
   "source": [
    "# 数据准备\n",
    "trans = torchvision.transforms.ToTensor\n",
    "train_data = datasets.CIFAR10(\"./dataset/\", True, transform=trans,download=True)\n",
    "test_data = datasets.CIFAR10(\"./dataset/\", False, transform=trans,download=True)\n",
    "\n",
    "train_loader = DataLoader(train_data, 64, True, drop_last=False)\n",
    "test_loader = DataLoader(test_data, 64, True, drop_last=False)"
   ]
  },
  {
   "cell_type": "code",
   "execution_count": 12,
   "metadata": {},
   "outputs": [
    {
     "data": {
      "text/plain": [
       "torch.Size([64, 10])"
      ]
     },
     "execution_count": 12,
     "metadata": {},
     "output_type": "execute_result"
    }
   ],
   "source": [
    "# 模型\n",
    "class Module(nn.Module):\n",
    "    def __init__(self):\n",
    "        super().__init__()\n",
    "        self.model = nn.Sequential(\n",
    "            nn.Conv2d(3, 32, kernel_size=5, stride=1, padding=2, padding_mode=\"zeros\"),\n",
    "            nn.ReLU(),\n",
    "            nn.MaxPool2d(kernel_size=2, ceil_mode=True),\n",
    "            nn.Conv2d(32, 32, kernel_size=5, stride=1, padding=2, padding_mode=\"zeros\"),\n",
    "            nn.ReLU(),\n",
    "            nn.MaxPool2d(kernel_size=2, ceil_mode=True),\n",
    "            nn.Conv2d(32, 64, kernel_size=5, stride=1, padding=2, padding_mode=\"zeros\"),\n",
    "            nn.ReLU(),\n",
    "            nn.MaxPool2d(kernel_size=2, ceil_mode=True),\n",
    "            \n",
    "            nn.Flatten(), # 64*4*4\n",
    "            nn.Linear(64*4*4,64),\n",
    "            nn.ReLU(),\n",
    "            nn.Linear(64,10),\n",
    "        )\n",
    "    def forward(self,x):\n",
    "        return self.model(x)\n",
    "    \n",
    "module =Module()\n",
    "test_data = torch.ones((64,3,32,32)) # 输入的shape\n",
    "out = module(test_data)\n",
    "out.size() # 输出的shape - 64*10"
   ]
  }
 ],
 "metadata": {
  "kernelspec": {
   "display_name": "Python 3.8.13 ('pytorch')",
   "language": "python",
   "name": "python3"
  },
  "language_info": {
   "codemirror_mode": {
    "name": "ipython",
    "version": 3
   },
   "file_extension": ".py",
   "mimetype": "text/x-python",
   "name": "python",
   "nbconvert_exporter": "python",
   "pygments_lexer": "ipython3",
   "version": "3.8.13"
  },
  "orig_nbformat": 4,
  "vscode": {
   "interpreter": {
    "hash": "e88457d6133781447915b440b258f55cb00eb78ff373bb1d13c46c34b1089a25"
   }
  }
 },
 "nbformat": 4,
 "nbformat_minor": 2
}
