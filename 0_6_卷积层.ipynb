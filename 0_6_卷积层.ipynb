{
 "cells": [
  {
   "cell_type": "code",
   "execution_count": 1,
   "metadata": {},
   "outputs": [],
   "source": [
    "import torchvision # 数据\n",
    "from torch.utils.data import DataLoader # 数据\n",
    "import torch\n",
    "from torch import nn #nn.Module\n",
    "from torch.nn import Conv2d # 卷积\n",
    "from torch.utils.tensorboard import SummaryWriter # 观察"
   ]
  },
  {
   "cell_type": "markdown",
   "metadata": {},
   "source": [
    "## 数据"
   ]
  },
  {
   "cell_type": "code",
   "execution_count": 2,
   "metadata": {},
   "outputs": [
    {
     "name": "stdout",
     "output_type": "stream",
     "text": [
      "Files already downloaded and verified\n"
     ]
    }
   ],
   "source": [
    "test_data = torchvision.datasets.CIFAR10(\"./dataset/\", False, torchvision.transforms.ToTensor(), download=True)\n",
    "test_loader = DataLoader(test_data, 64, True, drop_last=False)"
   ]
  },
  {
   "cell_type": "markdown",
   "metadata": {},
   "source": [
    "# 卷积层"
   ]
  },
  {
   "cell_type": "code",
   "execution_count": 3,
   "metadata": {},
   "outputs": [
    {
     "data": {
      "text/plain": [
       "ConvLayer(\n",
       "  (conv): Conv2d(3, 6, kernel_size=(3, 3), stride=(1, 1), padding=(2, 2))\n",
       ")"
      ]
     },
     "execution_count": 3,
     "metadata": {},
     "output_type": "execute_result"
    }
   ],
   "source": [
    "class ConvLayer(nn.Module):\n",
    "    def __init__(self, in_channel, out_channel):\n",
    "        super(ConvLayer, self).__init__()\n",
    "        self.conv = Conv2d(in_channels=in_channel, out_channels=out_channel, kernel_size=3, \n",
    "               stride=1, padding=2, bias=True, padding_mode='zeros')\n",
    "    def forward(self, x):\n",
    "        return self.conv(x)\n",
    "\n",
    "convlayer = ConvLayer(in_channel=3, out_channel=6)\n",
    "convlayer"
   ]
  },
  {
   "cell_type": "markdown",
   "metadata": {},
   "source": [
    "# 处理图片和展示"
   ]
  },
  {
   "cell_type": "code",
   "execution_count": 4,
   "metadata": {},
   "outputs": [],
   "source": [
    "writer = SummaryWriter(\"conv2dlayer\")\n",
    "for index,data in enumerate(test_loader):\n",
    "    imgs, targets = data\n",
    "    writer.add_images(\"imgs_origin\", imgs, index+1)\n",
    "    imgs_processed = convlayer(imgs).reshape((-1,3,34,34)) # (n,6,H,W) --> (m,3,H,W)\n",
    "    writer.add_images(\"imgs_processed\", imgs_processed, index+1)\n",
    "\n",
    "writer.close()"
   ]
  }
 ],
 "metadata": {
  "kernelspec": {
   "display_name": "Python 3.8.13 ('pytorch')",
   "language": "python",
   "name": "python3"
  },
  "language_info": {
   "codemirror_mode": {
    "name": "ipython",
    "version": 3
   },
   "file_extension": ".py",
   "mimetype": "text/x-python",
   "name": "python",
   "nbconvert_exporter": "python",
   "pygments_lexer": "ipython3",
   "version": "3.8.13"
  },
  "orig_nbformat": 4,
  "vscode": {
   "interpreter": {
    "hash": "e88457d6133781447915b440b258f55cb00eb78ff373bb1d13c46c34b1089a25"
   }
  }
 },
 "nbformat": 4,
 "nbformat_minor": 2
}
